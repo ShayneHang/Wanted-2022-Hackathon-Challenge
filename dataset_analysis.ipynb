{
 "cells": [
  {
   "cell_type": "code",
   "execution_count": 335,
   "metadata": {},
   "outputs": [],
   "source": [
    "import numpy as np\n",
    "import pandas as pd\n",
    "%matplotlib inline\n",
    "import matplotlib.pyplot as plt #for showing plots\n",
    "import seaborn as sns #for plotting\n",
    "import statsmodels.api as sm\n",
    "from statsmodels.distributions.empirical_distribution import ECDF\n",
    "import scipy.stats as stats\n",
    "from scipy.stats.distributions import norm\n",
    "import random\n",
    "import math\n",
    "import collections\n",
    "import re\n"
   ]
  },
  {
   "cell_type": "markdown",
   "metadata": {},
   "source": [
    "# Insights into the dataset"
   ]
  },
  {
   "cell_type": "code",
   "execution_count": 359,
   "metadata": {},
   "outputs": [
    {
     "name": "stdout",
     "output_type": "stream",
     "text": [
      "<class 'pandas.core.frame.DataFrame'>\n",
      "RangeIndex: 19967 entries, 0 to 19966\n",
      "Data columns (total 15 columns):\n",
      " #   Column                 Non-Null Count  Dtype  \n",
      "---  ------                 --------------  -----  \n",
      " 0   user_id                19967 non-null  int64  \n",
      " 1   country                19967 non-null  object \n",
      " 2   gender                 19967 non-null  object \n",
      " 3   years_of_experience    19967 non-null  int64  \n",
      " 4   no_of_apply            19967 non-null  int64  \n",
      " 5   no_of_pass             19967 non-null  int64  \n",
      " 6   no_of_hire             19967 non-null  int64  \n",
      " 7   avg_apply_pass         19967 non-null  float64\n",
      " 8   avg_pass_hire          19967 non-null  float64\n",
      " 9   no_of_event_reg        19967 non-null  int64  \n",
      " 10  signup_year            19967 non-null  int64  \n",
      " 11  current_inactive_days  19952 non-null  float64\n",
      " 12  education_level        19967 non-null  object \n",
      " 13  job_role               19967 non-null  object \n",
      " 14  skills                 19967 non-null  object \n",
      "dtypes: float64(3), int64(7), object(5)\n",
      "memory usage: 2.3+ MB\n",
      "None \n",
      "\n"
     ]
    }
   ],
   "source": [
    "df = pd.read_csv(r'D:\\User\\Courses\\Wanted Hackathon\\Dataset-DATARQ-3380.csv')\n",
    "\n",
    "print(df.info(), '\\n')"
   ]
  },
  {
   "cell_type": "markdown",
   "metadata": {},
   "source": [
    "At first glance, the dataset contain mainly details on user's occupation, as we can see that most of the columns are relating to job related informations e.g. years_of_experience, education_level, job_role, skills"
   ]
  },
  {
   "cell_type": "markdown",
   "metadata": {},
   "source": [
    "# Data cleaning\n",
    "\n",
    "a quick conditional formating using excel shows there's total of 1782 duplicate user_id entries.\n",
    "* all of the duplicates are in doubles\n",
    "* there are difference between some of the duplicates for columns:\n",
    "    * country\n",
    "    * gender\n",
    "    * avg_apply_pass\n",
    "    * current_inactive_days\n",
    "\n",
    "given there are difference in some of the duplicated rows, we do not know which rows contain the accurate infomation, so to be accurate in our analysis, lets remove all the duplicates and null data"
   ]
  },
  {
   "cell_type": "code",
   "execution_count": 209,
   "metadata": {},
   "outputs": [
    {
     "data": {
      "text/plain": [
       "15"
      ]
     },
     "execution_count": 209,
     "metadata": {},
     "output_type": "execute_result"
    }
   ],
   "source": [
    "# we have 15rows of null values\n",
    "df.isnull().sum().sum()"
   ]
  },
  {
   "cell_type": "code",
   "execution_count": 360,
   "metadata": {},
   "outputs": [
    {
     "name": "stdout",
     "output_type": "stream",
     "text": [
      "<class 'pandas.core.frame.DataFrame'>\n",
      "RangeIndex: 18170 entries, 0 to 18169\n",
      "Data columns (total 15 columns):\n",
      " #   Column                 Non-Null Count  Dtype  \n",
      "---  ------                 --------------  -----  \n",
      " 0   user_id                18170 non-null  int64  \n",
      " 1   country                18170 non-null  object \n",
      " 2   gender                 18170 non-null  object \n",
      " 3   years_of_experience    18170 non-null  int64  \n",
      " 4   no_of_apply            18170 non-null  int64  \n",
      " 5   no_of_pass             18170 non-null  int64  \n",
      " 6   no_of_hire             18170 non-null  int64  \n",
      " 7   avg_apply_pass         18170 non-null  float64\n",
      " 8   avg_pass_hire          18170 non-null  float64\n",
      " 9   no_of_event_reg        18170 non-null  int64  \n",
      " 10  signup_year            18170 non-null  int64  \n",
      " 11  current_inactive_days  18170 non-null  float64\n",
      " 12  education_level        18170 non-null  object \n",
      " 13  job_role               18170 non-null  object \n",
      " 14  skills                 18170 non-null  object \n",
      "dtypes: float64(3), int64(7), object(5)\n",
      "memory usage: 2.1+ MB\n",
      "None\n"
     ]
    }
   ],
   "source": [
    "new_df = df.drop_duplicates(subset=['user_id'], keep=False).dropna()\n",
    "new_df = new_df.reset_index(drop=True)\n",
    "print(new_df.info())\n",
    "\n",
    "#1782+15 = 1797\n",
    "#19967 - 18170 = 1797 tally\n"
   ]
  },
  {
   "cell_type": "markdown",
   "metadata": {},
   "source": [
    "With the duplicates removed, and nulls values removed, we proceed to do level 1 analysis"
   ]
  },
  {
   "cell_type": "code",
   "execution_count": 353,
   "metadata": {},
   "outputs": [
    {
     "name": "stdout",
     "output_type": "stream",
     "text": [
      "top 10 countries \n",
      " South Korea       93.1%\n",
      "United States      3.2%\n",
      "Japan              1.7%\n",
      "United Kingdom     0.4%\n",
      "Vietnam            0.3%\n",
      "Hong Kong          0.3%\n",
      "India              0.1%\n",
      "Taiwan             0.1%\n",
      "China              0.1%\n",
      "Thailand           0.1%\n",
      "Name: country, dtype: object \n",
      "\n",
      "proportion of genders \n",
      " female    50.0%\n",
      "male      50.0%\n",
      "Name: gender, dtype: object \n",
      "\n",
      "years_of_experience \n",
      " count    18170.000000\n",
      "mean         2.621354\n",
      "std          3.553147\n",
      "min          0.000000\n",
      "25%          0.000000\n",
      "50%          1.000000\n",
      "75%          4.000000\n",
      "max        131.000000\n",
      "Name: years_of_experience, dtype: float64 \n",
      "\n",
      "no_of_apply \n",
      " count    18170.000000\n",
      "mean        30.265768\n",
      "std         68.225869\n",
      "min          0.000000\n",
      "25%          4.000000\n",
      "50%         13.000000\n",
      "75%         32.000000\n",
      "max       3133.000000\n",
      "Name: no_of_apply, dtype: float64 \n",
      "\n",
      "no_of_hire \n",
      " count    18170.000000\n",
      "mean         0.689653\n",
      "std          0.489583\n",
      "min          0.000000\n",
      "25%          0.000000\n",
      "50%          1.000000\n",
      "75%          1.000000\n",
      "max          6.000000\n",
      "Name: no_of_hire, dtype: float64 \n",
      "\n",
      "signup rate each year \n",
      " 2015     612\n",
      "2016    1328\n",
      "2017    1985\n",
      "2018    2138\n",
      "2019    3407\n",
      "2020    2820\n",
      "2021    4957\n",
      "2022     923\n",
      "Name: signup_year, dtype: int64 \n",
      "\n",
      "inactive_days \n",
      " count    18170.000000\n",
      "mean       116.866924\n",
      "std        251.732912\n",
      "min          0.000000\n",
      "25%          4.000000\n",
      "50%         22.000000\n",
      "75%         85.000000\n",
      "max       1357.000000\n",
      "Name: current_inactive_days, dtype: float64 \n",
      "\n",
      "proportion of education level \n",
      " Graduated College    88.8%\n",
      "No College           11.2%\n",
      "Name: education_level, dtype: object \n",
      "\n",
      "top 10 job roles \n",
      " Web Developer         12.6%\n",
      "Web Designer           5.1%\n",
      "Strategic Planner      4.2%\n",
      "Front-end Engineer     4.0%\n",
      "Service Planner        3.8%\n",
      "Social Marketer        3.3%\n",
      "UX Designer            2.8%\n",
      "iOS Developer          2.5%\n",
      "Java Developer         2.0%\n",
      "Web Publisher          1.7%\n",
      "Name: job_role, dtype: object \n",
      "\n"
     ]
    }
   ],
   "source": [
    "print('top 10 countries', '\\n', new_df['country'].value_counts(normalize=True).nlargest(10).mul(100).round(1).astype(str) + '%', '\\n')\n",
    "\n",
    "print('proportion of genders','\\n', new_df['gender'].value_counts(normalize=True).mul(100).round(1).astype(str) + '%', '\\n')\n",
    "\n",
    "print('years_of_experience','\\n', new_df['years_of_experience'].describe(), '\\n')\n",
    "\n",
    "print('no_of_apply', '\\n', new_df['no_of_apply'].describe(), '\\n')\n",
    "\n",
    "print('no_of_hire', '\\n', new_df['no_of_hire'].describe(), '\\n')\n",
    "\n",
    "\n",
    "print('signup rate each year', '\\n', new_df['signup_year'].value_counts().sort_index(ascending=True), '\\n')\n",
    "\n",
    "print('inactive_days', '\\n', new_df['current_inactive_days'].describe(), '\\n')\n",
    "\n",
    "print('proportion of education level','\\n', new_df['education_level'].value_counts(normalize=True).mul(100).round(1).astype(str) + '%', '\\n')\n",
    "\n",
    "print('top 10 job roles', '\\n', new_df['job_role'].value_counts(normalize=True).nlargest(10).mul(100).round(1).astype(str) + '%', '\\n')\n"
   ]
  },
  {
   "cell_type": "code",
   "execution_count": 361,
   "metadata": {},
   "outputs": [
    {
     "name": "stdout",
     "output_type": "stream",
     "text": [
      "years_of_experience \n",
      " count    18170.000000\n",
      "mean         2.621354\n",
      "std          3.553147\n",
      "min          0.000000\n",
      "25%          0.000000\n",
      "50%          1.000000\n",
      "75%          4.000000\n",
      "max        131.000000\n",
      "Name: years_of_experience, dtype: float64 \n",
      "\n"
     ]
    },
    {
     "data": {
      "text/plain": [
       "Text(0.5, 1.0, 'statistical summary of years of experience')"
      ]
     },
     "execution_count": 361,
     "metadata": {},
     "output_type": "execute_result"
    },
    {
     "data": {
      "image/png": "[encoded data removed]",
      "text/plain": [
       "<Figure size 432x288 with 1 Axes>"
      ]
     },
     "metadata": {
      "needs_background": "light"
     },
     "output_type": "display_data"
    }
   ],
   "source": [
    "# graphing the 1st lvl analysis\n",
    "\n",
    "print('years_of_experience','\\n', new_df['years_of_experience'].describe(), '\\n')\n",
    "\n",
    "#drop the outlier 133 year of experience\n",
    "yoe = new_df[new_df.years_of_experience != 131]\n",
    "\n",
    "plt.boxplot(yoe['years_of_experience'])\n",
    "#plt.xlabel('BMI Level')\n",
    "plt.ylabel('years of experience')\n",
    "plt.title('statistical summary of years of experience')"
   ]
  },
  {
   "cell_type": "code",
   "execution_count": 191,
   "metadata": {},
   "outputs": [
    {
     "name": "stdout",
     "output_type": "stream",
     "text": [
      "no_of_apply \n",
      " count    18185.000000\n",
      "mean        30.248392\n",
      "std         68.200580\n",
      "min          0.000000\n",
      "25%          4.000000\n",
      "50%         13.000000\n",
      "75%         32.000000\n",
      "max       3133.000000\n",
      "Name: no_of_apply, dtype: float64 \n",
      "\n"
     ]
    },
    {
     "data": {
      "text/plain": [
       "Text(0.5, 1.0, 'statistical summary of applications made')"
      ]
     },
     "execution_count": 191,
     "metadata": {},
     "output_type": "execute_result"
    },
    {
     "data": {
      "image/png": "[encoded data removed]",
      "text/plain": [
       "<Figure size 432x288 with 1 Axes>"
      ]
     },
     "metadata": {
      "needs_background": "light"
     },
     "output_type": "display_data"
    }
   ],
   "source": [
    "print('no_of_apply', '\\n', new_df['no_of_apply'].describe(), '\\n')\n",
    "\n",
    "#drop the outlier 3133 applications\n",
    "noa = new_df[new_df.no_of_apply != 3133]\n",
    "\n",
    "plt.boxplot(noa['no_of_apply'])\n",
    "#plt.xlabel('BMI Level')\n",
    "plt.ylabel('no. of applications')\n",
    "plt.title('statistical summary of applications made')\n",
    "\n",
    "# print(np.log(13.000000))\n",
    "# print(math.exp(2.5649493574615367))"
   ]
  },
  {
   "cell_type": "code",
   "execution_count": 362,
   "metadata": {},
   "outputs": [
    {
     "data": {
      "text/plain": [
       "[<matplotlib.lines.Line2D at 0x2c4d72d95c8>]"
      ]
     },
     "execution_count": 362,
     "metadata": {},
     "output_type": "execute_result"
    },
    {
     "data": {
      "image/png": "[encoded data removed]",
      "text/plain": [
       "<Figure size 432x288 with 1 Axes>"
      ]
     },
     "metadata": {
      "needs_background": "light"
     },
     "output_type": "display_data"
    }
   ],
   "source": [
    "x = new_df['signup_year'].unique()\n",
    "y = new_df['signup_year'].value_counts().sort_index(ascending=True)\n",
    "\n",
    "plt.plot(x, y)\n",
    "\n",
    "#can consider to drop 2022 data since incomplete data"
   ]
  },
  {
   "cell_type": "code",
   "execution_count": 365,
   "metadata": {},
   "outputs": [
    {
     "name": "stdout",
     "output_type": "stream",
     "text": [
      "inactive period of users\n"
     ]
    },
    {
     "data": {
      "text/plain": [
       "<= a month                56.0%\n",
       "a month to half a year    29.1%\n",
       "half a year to a year      7.8%\n",
       "more than a year           7.1%\n",
       "Name: inactive_period, dtype: object"
      ]
     },
     "execution_count": 365,
     "metadata": {},
     "output_type": "execute_result"
    }
   ],
   "source": [
    "# grouping the inactive periods by months and years\n",
    "\n",
    "conditions = [\n",
    "    (new_df['current_inactive_days'] <= 30),\n",
    "    (new_df['current_inactive_days'] > 30) & (new_df['current_inactive_days'] <= 180),\n",
    "    (new_df['current_inactive_days'] > 180) & (new_df['current_inactive_days'] <= 365),\n",
    "    (new_df['current_inactive_days'] > 365)\n",
    "    ]\n",
    "\n",
    "values = ['<= a month', 'a month to half a year', 'half a year to a year', 'more than a year']\n",
    "\n",
    "new_df['inactive_period'] = np.select(conditions, values)\n",
    "\n",
    "print('inactive period of users')\n",
    "new_df['inactive_period'].value_counts(normalize=True).mul(100).round(1).astype(str) + '%'"
   ]
  },
  {
   "cell_type": "markdown",
   "metadata": {},
   "source": [
    "# 2nd level analysis"
   ]
  },
  {
   "cell_type": "code",
   "execution_count": 242,
   "metadata": {},
   "outputs": [
    {
     "data": {
      "text/html": [
       "<div>\n",
       "<style scoped>\n",
       "    .dataframe tbody tr th:only-of-type {\n",
       "        vertical-align: middle;\n",
       "    }\n",
       "\n",
       "    .dataframe tbody tr th {\n",
       "        vertical-align: top;\n",
       "    }\n",
       "\n",
       "    .dataframe thead th {\n",
       "        text-align: right;\n",
       "    }\n",
       "</style>\n",
       "<table border=\"1\" class=\"dataframe\">\n",
       "  <thead>\n",
       "    <tr style=\"text-align: right;\">\n",
       "      <th>gender</th>\n",
       "      <th>female</th>\n",
       "      <th>male</th>\n",
       "    </tr>\n",
       "    <tr>\n",
       "      <th>country</th>\n",
       "      <th></th>\n",
       "      <th></th>\n",
       "    </tr>\n",
       "  </thead>\n",
       "  <tbody>\n",
       "    <tr>\n",
       "      <th>South Korea</th>\n",
       "      <td>8492</td>\n",
       "      <td>8429</td>\n",
       "    </tr>\n",
       "    <tr>\n",
       "      <th>United States</th>\n",
       "      <td>267</td>\n",
       "      <td>310</td>\n",
       "    </tr>\n",
       "    <tr>\n",
       "      <th>Japan</th>\n",
       "      <td>160</td>\n",
       "      <td>157</td>\n",
       "    </tr>\n",
       "    <tr>\n",
       "      <th>United Kingdom</th>\n",
       "      <td>38</td>\n",
       "      <td>28</td>\n",
       "    </tr>\n",
       "    <tr>\n",
       "      <th>Vietnam</th>\n",
       "      <td>26</td>\n",
       "      <td>21</td>\n",
       "    </tr>\n",
       "    <tr>\n",
       "      <th>Hong Kong</th>\n",
       "      <td>24</td>\n",
       "      <td>22</td>\n",
       "    </tr>\n",
       "    <tr>\n",
       "      <th>Taiwan</th>\n",
       "      <td>16</td>\n",
       "      <td>8</td>\n",
       "    </tr>\n",
       "    <tr>\n",
       "      <th>India</th>\n",
       "      <td>10</td>\n",
       "      <td>16</td>\n",
       "    </tr>\n",
       "    <tr>\n",
       "      <th>China</th>\n",
       "      <td>8</td>\n",
       "      <td>11</td>\n",
       "    </tr>\n",
       "    <tr>\n",
       "      <th>Thailand</th>\n",
       "      <td>8</td>\n",
       "      <td>10</td>\n",
       "    </tr>\n",
       "  </tbody>\n",
       "</table>\n",
       "</div>"
      ],
      "text/plain": [
       "gender          female  male\n",
       "country                     \n",
       "South Korea       8492  8429\n",
       "United States      267   310\n",
       "Japan              160   157\n",
       "United Kingdom      38    28\n",
       "Vietnam             26    21\n",
       "Hong Kong           24    22\n",
       "Taiwan              16     8\n",
       "India               10    16\n",
       "China                8    11\n",
       "Thailand             8    10"
      ]
     },
     "execution_count": 242,
     "metadata": {},
     "output_type": "execute_result"
    }
   ],
   "source": [
    "#print(new_df['country'].value_counts(normalize=True).nlargest(10).mul(100).round(1))\n",
    "topcountries = ['South Korea', 'United States', 'Japan', 'United Kingdom', 'Vietnam', 'Hong Kong', 'India', 'Taiwan', 'China', 'Thailand']\n",
    "\n",
    "topcountry = new_df[new_df['country'].isin(topcountries)]['country']\n",
    "\n",
    "new_df.groupby(topcountry)['gender'].value_counts().unstack().sort_values(by='female', ascending=False)"
   ]
  },
  {
   "cell_type": "code",
   "execution_count": 233,
   "metadata": {},
   "outputs": [
    {
     "data": {
      "text/html": [
       "<div>\n",
       "<style scoped>\n",
       "    .dataframe tbody tr th:only-of-type {\n",
       "        vertical-align: middle;\n",
       "    }\n",
       "\n",
       "    .dataframe tbody tr th {\n",
       "        vertical-align: top;\n",
       "    }\n",
       "\n",
       "    .dataframe thead th {\n",
       "        text-align: right;\n",
       "    }\n",
       "</style>\n",
       "<table border=\"1\" class=\"dataframe\">\n",
       "  <thead>\n",
       "    <tr style=\"text-align: right;\">\n",
       "      <th>education_level</th>\n",
       "      <th>Graduated College</th>\n",
       "      <th>No College</th>\n",
       "    </tr>\n",
       "    <tr>\n",
       "      <th>gender</th>\n",
       "      <th></th>\n",
       "      <th></th>\n",
       "    </tr>\n",
       "  </thead>\n",
       "  <tbody>\n",
       "    <tr>\n",
       "      <th>female</th>\n",
       "      <td>8044</td>\n",
       "      <td>1050</td>\n",
       "    </tr>\n",
       "    <tr>\n",
       "      <th>male</th>\n",
       "      <td>8095</td>\n",
       "      <td>981</td>\n",
       "    </tr>\n",
       "  </tbody>\n",
       "</table>\n",
       "</div>"
      ],
      "text/plain": [
       "education_level  Graduated College  No College\n",
       "gender                                        \n",
       "female                        8044        1050\n",
       "male                          8095         981"
      ]
     },
     "execution_count": 233,
     "metadata": {},
     "output_type": "execute_result"
    }
   ],
   "source": [
    "new_df.groupby('gender')['education_level'].value_counts().unstack()"
   ]
  },
  {
   "cell_type": "code",
   "execution_count": 243,
   "metadata": {},
   "outputs": [
    {
     "data": {
      "text/html": [
       "<div>\n",
       "<style scoped>\n",
       "    .dataframe tbody tr th:only-of-type {\n",
       "        vertical-align: middle;\n",
       "    }\n",
       "\n",
       "    .dataframe tbody tr th {\n",
       "        vertical-align: top;\n",
       "    }\n",
       "\n",
       "    .dataframe thead th {\n",
       "        text-align: right;\n",
       "    }\n",
       "</style>\n",
       "<table border=\"1\" class=\"dataframe\">\n",
       "  <thead>\n",
       "    <tr style=\"text-align: right;\">\n",
       "      <th>education_level</th>\n",
       "      <th>Graduated College</th>\n",
       "      <th>No College</th>\n",
       "    </tr>\n",
       "    <tr>\n",
       "      <th>country</th>\n",
       "      <th></th>\n",
       "      <th></th>\n",
       "    </tr>\n",
       "  </thead>\n",
       "  <tbody>\n",
       "    <tr>\n",
       "      <th>South Korea</th>\n",
       "      <td>15096</td>\n",
       "      <td>1825</td>\n",
       "    </tr>\n",
       "    <tr>\n",
       "      <th>United States</th>\n",
       "      <td>495</td>\n",
       "      <td>82</td>\n",
       "    </tr>\n",
       "    <tr>\n",
       "      <th>Japan</th>\n",
       "      <td>279</td>\n",
       "      <td>38</td>\n",
       "    </tr>\n",
       "    <tr>\n",
       "      <th>United Kingdom</th>\n",
       "      <td>51</td>\n",
       "      <td>15</td>\n",
       "    </tr>\n",
       "    <tr>\n",
       "      <th>Hong Kong</th>\n",
       "      <td>38</td>\n",
       "      <td>8</td>\n",
       "    </tr>\n",
       "    <tr>\n",
       "      <th>Vietnam</th>\n",
       "      <td>38</td>\n",
       "      <td>9</td>\n",
       "    </tr>\n",
       "    <tr>\n",
       "      <th>China</th>\n",
       "      <td>17</td>\n",
       "      <td>2</td>\n",
       "    </tr>\n",
       "    <tr>\n",
       "      <th>India</th>\n",
       "      <td>14</td>\n",
       "      <td>12</td>\n",
       "    </tr>\n",
       "    <tr>\n",
       "      <th>Taiwan</th>\n",
       "      <td>14</td>\n",
       "      <td>10</td>\n",
       "    </tr>\n",
       "    <tr>\n",
       "      <th>Thailand</th>\n",
       "      <td>14</td>\n",
       "      <td>4</td>\n",
       "    </tr>\n",
       "  </tbody>\n",
       "</table>\n",
       "</div>"
      ],
      "text/plain": [
       "education_level  Graduated College  No College\n",
       "country                                       \n",
       "South Korea                  15096        1825\n",
       "United States                  495          82\n",
       "Japan                          279          38\n",
       "United Kingdom                  51          15\n",
       "Hong Kong                       38           8\n",
       "Vietnam                         38           9\n",
       "China                           17           2\n",
       "India                           14          12\n",
       "Taiwan                          14          10\n",
       "Thailand                        14           4"
      ]
     },
     "execution_count": 243,
     "metadata": {},
     "output_type": "execute_result"
    }
   ],
   "source": [
    "new_df.groupby(topcountry)['education_level'].value_counts().unstack().sort_values(by='Graduated College', ascending=False)"
   ]
  },
  {
   "cell_type": "code",
   "execution_count": 249,
   "metadata": {},
   "outputs": [
    {
     "data": {
      "text/html": [
       "<div>\n",
       "<style scoped>\n",
       "    .dataframe tbody tr th:only-of-type {\n",
       "        vertical-align: middle;\n",
       "    }\n",
       "\n",
       "    .dataframe tbody tr th {\n",
       "        vertical-align: top;\n",
       "    }\n",
       "\n",
       "    .dataframe thead th {\n",
       "        text-align: right;\n",
       "    }\n",
       "</style>\n",
       "<table border=\"1\" class=\"dataframe\">\n",
       "  <thead>\n",
       "    <tr style=\"text-align: right;\">\n",
       "      <th>signup_year</th>\n",
       "      <th>2015</th>\n",
       "      <th>2016</th>\n",
       "      <th>2017</th>\n",
       "      <th>2018</th>\n",
       "      <th>2019</th>\n",
       "      <th>2020</th>\n",
       "      <th>2021</th>\n",
       "      <th>2022</th>\n",
       "    </tr>\n",
       "    <tr>\n",
       "      <th>country</th>\n",
       "      <th></th>\n",
       "      <th></th>\n",
       "      <th></th>\n",
       "      <th></th>\n",
       "      <th></th>\n",
       "      <th></th>\n",
       "      <th></th>\n",
       "      <th></th>\n",
       "    </tr>\n",
       "  </thead>\n",
       "  <tbody>\n",
       "    <tr>\n",
       "      <th>South Korea</th>\n",
       "      <td>571.0</td>\n",
       "      <td>1235.0</td>\n",
       "      <td>1855.0</td>\n",
       "      <td>2020.0</td>\n",
       "      <td>3234.0</td>\n",
       "      <td>2644.0</td>\n",
       "      <td>4489.0</td>\n",
       "      <td>873.0</td>\n",
       "    </tr>\n",
       "    <tr>\n",
       "      <th>United States</th>\n",
       "      <td>17.0</td>\n",
       "      <td>42.0</td>\n",
       "      <td>60.0</td>\n",
       "      <td>64.0</td>\n",
       "      <td>104.0</td>\n",
       "      <td>134.0</td>\n",
       "      <td>140.0</td>\n",
       "      <td>16.0</td>\n",
       "    </tr>\n",
       "    <tr>\n",
       "      <th>Japan</th>\n",
       "      <td>6.0</td>\n",
       "      <td>10.0</td>\n",
       "      <td>16.0</td>\n",
       "      <td>11.0</td>\n",
       "      <td>11.0</td>\n",
       "      <td>2.0</td>\n",
       "      <td>242.0</td>\n",
       "      <td>19.0</td>\n",
       "    </tr>\n",
       "    <tr>\n",
       "      <th>United Kingdom</th>\n",
       "      <td>4.0</td>\n",
       "      <td>10.0</td>\n",
       "      <td>4.0</td>\n",
       "      <td>7.0</td>\n",
       "      <td>9.0</td>\n",
       "      <td>13.0</td>\n",
       "      <td>16.0</td>\n",
       "      <td>3.0</td>\n",
       "    </tr>\n",
       "    <tr>\n",
       "      <th>Vietnam</th>\n",
       "      <td>4.0</td>\n",
       "      <td>2.0</td>\n",
       "      <td>7.0</td>\n",
       "      <td>4.0</td>\n",
       "      <td>13.0</td>\n",
       "      <td>6.0</td>\n",
       "      <td>9.0</td>\n",
       "      <td>2.0</td>\n",
       "    </tr>\n",
       "    <tr>\n",
       "      <th>Thailand</th>\n",
       "      <td>2.0</td>\n",
       "      <td>3.0</td>\n",
       "      <td>2.0</td>\n",
       "      <td>2.0</td>\n",
       "      <td>2.0</td>\n",
       "      <td>1.0</td>\n",
       "      <td>4.0</td>\n",
       "      <td>2.0</td>\n",
       "    </tr>\n",
       "    <tr>\n",
       "      <th>China</th>\n",
       "      <td>1.0</td>\n",
       "      <td>5.0</td>\n",
       "      <td>7.0</td>\n",
       "      <td>6.0</td>\n",
       "      <td>NaN</td>\n",
       "      <td>NaN</td>\n",
       "      <td>NaN</td>\n",
       "      <td>NaN</td>\n",
       "    </tr>\n",
       "    <tr>\n",
       "      <th>Hong Kong</th>\n",
       "      <td>NaN</td>\n",
       "      <td>9.0</td>\n",
       "      <td>14.0</td>\n",
       "      <td>16.0</td>\n",
       "      <td>5.0</td>\n",
       "      <td>2.0</td>\n",
       "      <td>NaN</td>\n",
       "      <td>NaN</td>\n",
       "    </tr>\n",
       "    <tr>\n",
       "      <th>India</th>\n",
       "      <td>NaN</td>\n",
       "      <td>NaN</td>\n",
       "      <td>NaN</td>\n",
       "      <td>NaN</td>\n",
       "      <td>5.0</td>\n",
       "      <td>6.0</td>\n",
       "      <td>14.0</td>\n",
       "      <td>1.0</td>\n",
       "    </tr>\n",
       "    <tr>\n",
       "      <th>Taiwan</th>\n",
       "      <td>NaN</td>\n",
       "      <td>1.0</td>\n",
       "      <td>4.0</td>\n",
       "      <td>2.0</td>\n",
       "      <td>10.0</td>\n",
       "      <td>3.0</td>\n",
       "      <td>4.0</td>\n",
       "      <td>NaN</td>\n",
       "    </tr>\n",
       "  </tbody>\n",
       "</table>\n",
       "</div>"
      ],
      "text/plain": [
       "signup_year      2015    2016    2017    2018    2019    2020    2021   2022\n",
       "country                                                                     \n",
       "South Korea     571.0  1235.0  1855.0  2020.0  3234.0  2644.0  4489.0  873.0\n",
       "United States    17.0    42.0    60.0    64.0   104.0   134.0   140.0   16.0\n",
       "Japan             6.0    10.0    16.0    11.0    11.0     2.0   242.0   19.0\n",
       "United Kingdom    4.0    10.0     4.0     7.0     9.0    13.0    16.0    3.0\n",
       "Vietnam           4.0     2.0     7.0     4.0    13.0     6.0     9.0    2.0\n",
       "Thailand          2.0     3.0     2.0     2.0     2.0     1.0     4.0    2.0\n",
       "China             1.0     5.0     7.0     6.0     NaN     NaN     NaN    NaN\n",
       "Hong Kong         NaN     9.0    14.0    16.0     5.0     2.0     NaN    NaN\n",
       "India             NaN     NaN     NaN     NaN     5.0     6.0    14.0    1.0\n",
       "Taiwan            NaN     1.0     4.0     2.0    10.0     3.0     4.0    NaN"
      ]
     },
     "execution_count": 249,
     "metadata": {},
     "output_type": "execute_result"
    }
   ],
   "source": [
    "new_df.groupby(topcountry)['signup_year'].value_counts().unstack().sort_values(by=2015, ascending=False)"
   ]
  },
  {
   "cell_type": "code",
   "execution_count": 294,
   "metadata": {},
   "outputs": [
    {
     "name": "stdout",
     "output_type": "stream",
     "text": [
      "average years of experience by gender\n"
     ]
    },
    {
     "data": {
      "text/plain": [
       "gender\n",
       "female    2.63\n",
       "male      2.61\n",
       "Name: years_of_experience, dtype: float64"
      ]
     },
     "execution_count": 294,
     "metadata": {},
     "output_type": "execute_result"
    }
   ],
   "source": [
    "#print('years_of_experience','\\n', new_df['years_of_experience'].describe(), '\\n')\n",
    "\n",
    "print('average years of experience by gender')\n",
    "new_df.groupby('gender')['years_of_experience'].mean().round(2)"
   ]
  },
  {
   "cell_type": "code",
   "execution_count": 282,
   "metadata": {},
   "outputs": [
    {
     "name": "stdout",
     "output_type": "stream",
     "text": [
      "average years of experience by country\n"
     ]
    },
    {
     "data": {
      "text/plain": [
       "country\n",
       "Vietnam           4.06\n",
       "United States     2.97\n",
       "United Kingdom    2.97\n",
       "Thailand          2.83\n",
       "South Korea       2.63\n",
       "Taiwan            2.46\n",
       "Japan             2.05\n",
       "India             1.69\n",
       "Hong Kong         0.04\n",
       "China             0.00\n",
       "Name: years_of_experience, dtype: float64"
      ]
     },
     "execution_count": 282,
     "metadata": {},
     "output_type": "execute_result"
    }
   ],
   "source": [
    "print('average years of experience by country')\n",
    "new_df.groupby(topcountry)['years_of_experience'].mean().sort_values(ascending=False).round(2)"
   ]
  },
  {
   "cell_type": "code",
   "execution_count": 293,
   "metadata": {},
   "outputs": [
    {
     "name": "stdout",
     "output_type": "stream",
     "text": [
      "average application by gender\n"
     ]
    },
    {
     "data": {
      "text/plain": [
       "gender\n",
       "female    30.17\n",
       "male      30.36\n",
       "Name: no_of_apply, dtype: float64"
      ]
     },
     "execution_count": 293,
     "metadata": {},
     "output_type": "execute_result"
    }
   ],
   "source": [
    "#print('no_of_apply', '\\n', new_df['no_of_apply'].describe(), '\\n')\n",
    "\n",
    "print('average application by gender')\n",
    "new_df.groupby('gender')['no_of_apply'].mean().round(2)"
   ]
  },
  {
   "cell_type": "code",
   "execution_count": 354,
   "metadata": {},
   "outputs": [
    {
     "name": "stdout",
     "output_type": "stream",
     "text": [
      "average job applications by country\n"
     ]
    },
    {
     "data": {
      "text/plain": [
       "country\n",
       "United Kingdom    70.9\n",
       "Taiwan            69.8\n",
       "United States     47.2\n",
       "China             41.2\n",
       "Vietnam           31.3\n",
       "South Korea       29.9\n",
       "Hong Kong         29.2\n",
       "Thailand          23.2\n",
       "Japan              7.9\n",
       "India              7.5\n",
       "Name: no_of_apply, dtype: float64"
      ]
     },
     "execution_count": 354,
     "metadata": {},
     "output_type": "execute_result"
    }
   ],
   "source": [
    "print('average job applications by country')\n",
    "new_df.groupby(topcountry)['no_of_apply'].mean().sort_values(ascending=False).round(1)"
   ]
  },
  {
   "cell_type": "code",
   "execution_count": 263,
   "metadata": {},
   "outputs": [
    {
     "name": "stderr",
     "output_type": "stream",
     "text": [
      "c:\\Users\\Kwang Hui Hang\\AppData\\Local\\Programs\\Python\\Python37\\lib\\site-packages\\ipykernel_launcher.py:1: FutureWarning: Indexing with multiple keys (implicitly converted to a tuple of keys) will be deprecated, use a list instead.\n",
      "  \"\"\"Entry point for launching an IPython kernel.\n"
     ]
    },
    {
     "data": {
      "text/html": [
       "<div>\n",
       "<style scoped>\n",
       "    .dataframe tbody tr th:only-of-type {\n",
       "        vertical-align: middle;\n",
       "    }\n",
       "\n",
       "    .dataframe tbody tr th {\n",
       "        vertical-align: top;\n",
       "    }\n",
       "\n",
       "    .dataframe thead th {\n",
       "        text-align: right;\n",
       "    }\n",
       "</style>\n",
       "<table border=\"1\" class=\"dataframe\">\n",
       "  <thead>\n",
       "    <tr style=\"text-align: right;\">\n",
       "      <th></th>\n",
       "      <th>no_of_apply</th>\n",
       "      <th>no_of_hire</th>\n",
       "    </tr>\n",
       "    <tr>\n",
       "      <th>country</th>\n",
       "      <th></th>\n",
       "      <th></th>\n",
       "    </tr>\n",
       "  </thead>\n",
       "  <tbody>\n",
       "    <tr>\n",
       "      <th>United Kingdom</th>\n",
       "      <td>70.9</td>\n",
       "      <td>0.8</td>\n",
       "    </tr>\n",
       "    <tr>\n",
       "      <th>Taiwan</th>\n",
       "      <td>69.8</td>\n",
       "      <td>0.8</td>\n",
       "    </tr>\n",
       "    <tr>\n",
       "      <th>United States</th>\n",
       "      <td>47.2</td>\n",
       "      <td>0.9</td>\n",
       "    </tr>\n",
       "    <tr>\n",
       "      <th>China</th>\n",
       "      <td>41.2</td>\n",
       "      <td>0.9</td>\n",
       "    </tr>\n",
       "    <tr>\n",
       "      <th>Vietnam</th>\n",
       "      <td>31.3</td>\n",
       "      <td>0.7</td>\n",
       "    </tr>\n",
       "    <tr>\n",
       "      <th>South Korea</th>\n",
       "      <td>29.9</td>\n",
       "      <td>0.7</td>\n",
       "    </tr>\n",
       "    <tr>\n",
       "      <th>Hong Kong</th>\n",
       "      <td>29.2</td>\n",
       "      <td>0.9</td>\n",
       "    </tr>\n",
       "    <tr>\n",
       "      <th>Thailand</th>\n",
       "      <td>23.2</td>\n",
       "      <td>0.8</td>\n",
       "    </tr>\n",
       "    <tr>\n",
       "      <th>Japan</th>\n",
       "      <td>7.9</td>\n",
       "      <td>0.1</td>\n",
       "    </tr>\n",
       "    <tr>\n",
       "      <th>India</th>\n",
       "      <td>7.5</td>\n",
       "      <td>0.0</td>\n",
       "    </tr>\n",
       "  </tbody>\n",
       "</table>\n",
       "</div>"
      ],
      "text/plain": [
       "                no_of_apply  no_of_hire\n",
       "country                                \n",
       "United Kingdom         70.9         0.8\n",
       "Taiwan                 69.8         0.8\n",
       "United States          47.2         0.9\n",
       "China                  41.2         0.9\n",
       "Vietnam                31.3         0.7\n",
       "South Korea            29.9         0.7\n",
       "Hong Kong              29.2         0.9\n",
       "Thailand               23.2         0.8\n",
       "Japan                   7.9         0.1\n",
       "India                   7.5         0.0"
      ]
     },
     "execution_count": 263,
     "metadata": {},
     "output_type": "execute_result"
    }
   ],
   "source": [
    "new_df.groupby(topcountry)['no_of_apply', 'no_of_hire'].mean().sort_values(by='no_of_apply', ascending=False).round(1)"
   ]
  },
  {
   "cell_type": "code",
   "execution_count": 367,
   "metadata": {},
   "outputs": [
    {
     "name": "stdout",
     "output_type": "stream",
     "text": [
      "proportion of gender in top 10 job\n"
     ]
    },
    {
     "data": {
      "text/html": [
       "<div>\n",
       "<style scoped>\n",
       "    .dataframe tbody tr th:only-of-type {\n",
       "        vertical-align: middle;\n",
       "    }\n",
       "\n",
       "    .dataframe tbody tr th {\n",
       "        vertical-align: top;\n",
       "    }\n",
       "\n",
       "    .dataframe thead th {\n",
       "        text-align: right;\n",
       "    }\n",
       "</style>\n",
       "<table border=\"1\" class=\"dataframe\">\n",
       "  <thead>\n",
       "    <tr style=\"text-align: right;\">\n",
       "      <th>gender</th>\n",
       "      <th>female</th>\n",
       "      <th>male</th>\n",
       "    </tr>\n",
       "    <tr>\n",
       "      <th>job_role</th>\n",
       "      <th></th>\n",
       "      <th></th>\n",
       "    </tr>\n",
       "  </thead>\n",
       "  <tbody>\n",
       "    <tr>\n",
       "      <th>Web Designer</th>\n",
       "      <td>52.4%</td>\n",
       "      <td>47.6%</td>\n",
       "    </tr>\n",
       "    <tr>\n",
       "      <th>Java Developer</th>\n",
       "      <td>51.7%</td>\n",
       "      <td>48.3%</td>\n",
       "    </tr>\n",
       "    <tr>\n",
       "      <th>Front-end Engineer</th>\n",
       "      <td>50.3%</td>\n",
       "      <td>49.7%</td>\n",
       "    </tr>\n",
       "    <tr>\n",
       "      <th>Strategic Planner</th>\n",
       "      <td>50.0%</td>\n",
       "      <td>50.0%</td>\n",
       "    </tr>\n",
       "    <tr>\n",
       "      <th>Web Developer</th>\n",
       "      <td>49.6%</td>\n",
       "      <td>50.4%</td>\n",
       "    </tr>\n",
       "    <tr>\n",
       "      <th>iOS Developer</th>\n",
       "      <td>49.3%</td>\n",
       "      <td>50.7%</td>\n",
       "    </tr>\n",
       "    <tr>\n",
       "      <th>UX Designer</th>\n",
       "      <td>49.2%</td>\n",
       "      <td>50.8%</td>\n",
       "    </tr>\n",
       "    <tr>\n",
       "      <th>Service Planner</th>\n",
       "      <td>47.5%</td>\n",
       "      <td>52.5%</td>\n",
       "    </tr>\n",
       "    <tr>\n",
       "      <th>Web Publisher</th>\n",
       "      <td>47.2%</td>\n",
       "      <td>52.8%</td>\n",
       "    </tr>\n",
       "    <tr>\n",
       "      <th>Social Marketer</th>\n",
       "      <td>47.1%</td>\n",
       "      <td>52.9%</td>\n",
       "    </tr>\n",
       "  </tbody>\n",
       "</table>\n",
       "</div>"
      ],
      "text/plain": [
       "gender             female   male\n",
       "job_role                        \n",
       "Web Designer        52.4%  47.6%\n",
       "Java Developer      51.7%  48.3%\n",
       "Front-end Engineer  50.3%  49.7%\n",
       "Strategic Planner   50.0%  50.0%\n",
       "Web Developer       49.6%  50.4%\n",
       "iOS Developer       49.3%  50.7%\n",
       "UX Designer         49.2%  50.8%\n",
       "Service Planner     47.5%  52.5%\n",
       "Web Publisher       47.2%  52.8%\n",
       "Social Marketer     47.1%  52.9%"
      ]
     },
     "execution_count": 367,
     "metadata": {},
     "output_type": "execute_result"
    }
   ],
   "source": [
    "#print(new_df['job_role'].value_counts(normalize=True).nlargest(10).mul(100).round(1).astype(str) + '%', '\\n')\n",
    "\n",
    "topjobs = ['Web Developer', 'Web Designer', 'Strategic Planner', 'Front-end Engineer', 'Service Planner', 'Social Marketer', 'UX Designer', 'iOS Developer', 'Java Developer', 'Web Publisher']\n",
    "\n",
    "topjob = new_df[new_df['job_role'].isin(topjobs)]['job_role']\n",
    "\n",
    "print('proportion of gender in top 10 job')\n",
    "new_df.groupby(topjob)['gender'].value_counts(normalize=True).mul(100).round(1).unstack().sort_values(by='female', ascending=False).astype(str) + '%'"
   ]
  },
  {
   "cell_type": "code",
   "execution_count": 368,
   "metadata": {},
   "outputs": [
    {
     "name": "stdout",
     "output_type": "stream",
     "text": [
      "average years of experience by job role\n"
     ]
    },
    {
     "data": {
      "text/plain": [
       "job_role\n",
       "Strategic Planner     3.94\n",
       "Service Planner       3.65\n",
       "Social Marketer       2.82\n",
       "Web Designer          2.76\n",
       "iOS Developer         2.71\n",
       "Java Developer        2.52\n",
       "Web Publisher         2.28\n",
       "Web Developer         2.18\n",
       "UX Designer           2.01\n",
       "Front-end Engineer    0.83\n",
       "Name: years_of_experience, dtype: float64"
      ]
     },
     "execution_count": 368,
     "metadata": {},
     "output_type": "execute_result"
    }
   ],
   "source": [
    "print('average years of experience by job role')\n",
    "new_df.groupby(topjob)['years_of_experience'].mean().sort_values(ascending=False).round(2)"
   ]
  },
  {
   "cell_type": "code",
   "execution_count": 334,
   "metadata": {},
   "outputs": [
    {
     "name": "stdout",
     "output_type": "stream",
     "text": [
      "18291\n",
      "4403\n",
      "3632\n",
      "5645\n",
      "5645\n",
      "3687\n",
      "2038\n",
      "2714\n",
      "4193\n",
      "3309\n",
      "2303\n"
     ]
    }
   ],
   "source": [
    "# extracting the skills from the top 10 job\n",
    "\n",
    "#topjobs = ['Web Developer', 'Web Designer', 'Strategic Planner', 'Front-end Engineer', 'Service Planner', 'Social Marketer', 'UX Designer', 'iOS Developer', 'Java Developer', 'Web Publisher']\n",
    "\n",
    "topjobroles = new_df[new_df['job_role'].isin(topjobs)]\n",
    "role_skills = topjobroles.loc[:, ('job_role', 'skills')]\n",
    "\n",
    "role_skills_tuple = list(role_skills.itertuples(index=False, name=None))\n",
    "\n",
    "#print(role_skills_tuple[1][0]) #Social Marketer\n",
    "#print(role_skills_tuple[1][1]) #CRM|Growth Hacking\n",
    "#print(topjobs[0]) #Web Developer\n",
    "\n",
    "WebDeveloper_skills = []\n",
    "WebDesigner_skills = []\n",
    "StrategicPlanner_skills = []\n",
    "Frontend_Engineer_skills = []\n",
    "ServicePlanner_skills = []\n",
    "SocialMarketer_skills = []\n",
    "UXDesigner_skills = []\n",
    "iOSDeveloper_skills = []\n",
    "JavaDeveloper_skills = []\n",
    "WebPublisher_skills = []\n",
    "\n",
    "\n",
    "for i in role_skills_tuple:\n",
    "    if i[0] in topjobs[0]:\n",
    "        x = i[1].split('|')\n",
    "        for y in x:\n",
    "            WebDeveloper_skills.append(y)\n",
    "    if i[0] in topjobs[1]:\n",
    "        x = i[1].split('|')\n",
    "        for y in x:\n",
    "            WebDesigner_skills.append(y)\n",
    "    if i[0] in topjobs[2]:\n",
    "        x = i[1].split('|')\n",
    "        for y in x:\n",
    "            StrategicPlanner_skills.append(y)\n",
    "    if i[0] in topjobs[3]:\n",
    "        x = i[1].split('|')\n",
    "        for y in x:\n",
    "            Frontend_Engineer_skills.append(y)\n",
    "    if i[0] in topjobs[4]:\n",
    "        x = i[1].split('|')\n",
    "        for y in x:\n",
    "            ServicePlanner_skills.append(y)\n",
    "    if i[0] in topjobs[5]:\n",
    "        x = i[1].split('|')\n",
    "        for y in x:\n",
    "            SocialMarketer_skills.append(y)\n",
    "    if i[0] in topjobs[6]:\n",
    "        x = i[1].split('|')\n",
    "        for y in x:\n",
    "            UXDesigner_skills.append(y)\n",
    "    if i[0] in topjobs[7]:\n",
    "        x = i[1].split('|')\n",
    "        for y in x:\n",
    "            iOSDeveloper_skills.append(y)\n",
    "    if i[0] in topjobs[8]:\n",
    "        x = i[1].split('|')\n",
    "        for y in x:\n",
    "            JavaDeveloper_skills.append(y)\n",
    "    if i[0] in topjobs[9]:\n",
    "        x = i[1].split('|')\n",
    "        for y in x:\n",
    "            WebPublisher_skills.append(y)\n",
    "\n",
    "print(len(WebDeveloper_skills)) #18291\n",
    "print(len(WebDesigner_skills)) #4403 \n",
    "print(len(StrategicPlanner_skills)) #3632\n",
    "print(len(Frontend_Engineer_skills)) #5645\n",
    "print(len(ServicePlanner_skills)) #3687\n",
    "print(len(SocialMarketer_skills)) #2038\n",
    "print(len(UXDesigner_skills)) #2714\n",
    "print(len(iOSDeveloper_skills)) #4193\n",
    "print(len(JavaDeveloper_skills)) #3309\n",
    "print(len(WebPublisher_skills)) #2303\n",
    "\n"
   ]
  },
  {
   "cell_type": "code",
   "execution_count": 349,
   "metadata": {},
   "outputs": [
    {
     "name": "stdout",
     "output_type": "stream",
     "text": [
      "WebDeveloper_topskills \n",
      " [('AWS', 1967), ('Git', 757), ('Java', 672), ('MySQL', 616), ('Python', 580), ('JavaScript', 558), ('Docker', 520), ('React', 481), ('TypeScript', 457), ('GitHub', 419)]\n",
      "WebDesigner_topskills \n",
      " [('Adobe Illustrator', 733), ('Adobe Photoshop', 704), ('UI Design', 237), ('Graphic Design', 207), ('Figma', 170), ('Sketch', 164), ('3D', 160), ('Branding', 150), ('Web Design', 141), ('Adobe XD', 117)]\n",
      "StrategicPlanner_topskills \n",
      " [('AWS', 124), ('Accounting', 112), ('JIRA', 104), ('SQL', 103), ('Excel', 95), ('Google Analytics', 92), ('Tableau', 65), ('Python', 58), ('Axure', 54), ('IFRS', 52)]\n",
      "Frontend_Engineer_topskills \n",
      " [('AWS', 611), ('Git', 253), ('React', 203), ('JavaScript', 186), ('TypeScript', 185), ('Docker', 181), ('Python', 178), ('MySQL', 167), ('Java', 152), ('APIs', 129)]\n",
      "ServicePlanner_topskills \n",
      " [('AWS', 133), ('Accounting', 85), ('JIRA', 77), ('Excel', 77), ('Adobe Photoshop', 73), ('SQL', 70), ('MySQL', 69), ('Google Analytics', 65), ('Java', 64), ('JavaScript', 63)]\n",
      "SocialMarketer_topskills \n",
      " [('Tableau', 165), ('AMPL', 161), ('Adobe Photoshop', 103), ('Google Analytics', 100), ('Adobe Illustrator', 64), ('Marketing Strategy', 52), ('Sketch', 52), ('Figma', 48), ('Marketing Operations', 43), ('Content Creation', 43)]\n",
      "UXDesigner_topskills \n",
      " [('Adobe Photoshop', 389), ('Adobe Illustrator', 389), ('UI Design', 166), ('Figma', 129), ('Graphic Design', 125), ('Sketch', 103), ('Branding', 94), ('3D', 89), ('Zeplin', 87), ('Service Design', 85)]\n",
      "iOSDeveloper_topskills \n",
      " [('AWS', 405), ('Python', 170), ('Java', 151), ('React', 148), ('iOS', 143), ('Swift', 133), ('Git', 126), ('TypeScript', 111), ('JavaScript', 109), ('MySQL', 108)]\n",
      "JavaDeveloper_topskills \n",
      " [('AWS', 294), ('Java', 133), ('Python', 124), ('Git', 118), ('MySQL', 114), ('iOS', 90), ('React', 90), ('JavaScript', 86), ('Docker', 85), ('Spring Framework', 85)]\n",
      "WebPublisher_topskills \n",
      " [('AWS', 225), ('Git', 98), ('JavaScript', 94), ('MySQL', 76), ('Java', 75), ('Python', 63), ('React', 63), ('Docker', 52), ('Node.js', 51), ('TypeScript', 51)]\n"
     ]
    }
   ],
   "source": [
    "# counting the top 10 of skills from each role\n",
    "\n",
    "WebDeveloper_topskills = collections.Counter(WebDeveloper_skills).most_common(10)\n",
    "\n",
    "print('WebDeveloper_topskills', '\\n', WebDeveloper_topskills)\n",
    "\n",
    "WebDesigner_topskills = collections.Counter(WebDesigner_skills).most_common(10)\n",
    "\n",
    "print('WebDesigner_topskills', '\\n', WebDesigner_topskills)\n",
    "\n",
    "StrategicPlanner_topskills = collections.Counter(StrategicPlanner_skills).most_common(10)\n",
    "\n",
    "print('StrategicPlanner_topskills', '\\n', StrategicPlanner_topskills)\n",
    "\n",
    "Frontend_Engineer_topskills = collections.Counter(Frontend_Engineer_skills).most_common(10)\n",
    "\n",
    "print('Frontend_Engineer_topskills', '\\n', Frontend_Engineer_topskills)\n",
    "\n",
    "ServicePlanner_topskills = collections.Counter(ServicePlanner_skills).most_common(10)\n",
    "\n",
    "print('ServicePlanner_topskills', '\\n', ServicePlanner_topskills)\n",
    "\n",
    "SocialMarketer_topskills = collections.Counter(SocialMarketer_skills).most_common(10)\n",
    "\n",
    "print('SocialMarketer_topskills', '\\n', SocialMarketer_topskills)\n",
    "\n",
    "UXDesigner_topskills = collections.Counter(UXDesigner_skills).most_common(10)\n",
    "\n",
    "print('UXDesigner_topskills', '\\n', UXDesigner_topskills)\n",
    "\n",
    "iOSDeveloper_topskills = collections.Counter(iOSDeveloper_skills).most_common(10)\n",
    "\n",
    "print('iOSDeveloper_topskills', '\\n', iOSDeveloper_topskills)\n",
    "\n",
    "JavaDeveloper_topskills = collections.Counter(JavaDeveloper_skills).most_common(10)\n",
    "\n",
    "print('JavaDeveloper_topskills', '\\n', JavaDeveloper_topskills)\n",
    "\n",
    "WebPublisher_topskills = collections.Counter(WebPublisher_skills).most_common(10)\n",
    "\n",
    "print('WebPublisher_topskills', '\\n', WebPublisher_topskills)\n"
   ]
  }
 ],
 "metadata": {
  "kernelspec": {
   "display_name": "Python 3.7.7 64-bit",
   "language": "python",
   "name": "python3"
  },
  "language_info": {
   "codemirror_mode": {
    "name": "ipython",
    "version": 3
   },
   "file_extension": ".py",
   "mimetype": "text/x-python",
   "name": "python",
   "nbconvert_exporter": "python",
   "pygments_lexer": "ipython3",
   "version": "3.7.7"
  },
  "orig_nbformat": 4,
  "vscode": {
   "interpreter": {
    "hash": "a3e22d42784bfdb4355de868d6aabede92198c90d555a8ec7582f329ce1bb57e"
   }
  }
 },
 "nbformat": 4,
 "nbformat_minor": 2
}
